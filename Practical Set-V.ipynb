{
 "cells": [
  {
   "cell_type": "markdown",
   "id": "19c46c38",
   "metadata": {},
   "source": [
    "# Program-1"
   ]
  },
  {
   "cell_type": "code",
   "execution_count": 4,
   "id": "bd13b917",
   "metadata": {},
   "outputs": [
    {
     "name": "stdout",
     "output_type": "stream",
     "text": [
      "Ordering cost per order : 20\n",
      "Demand rate per year : 10000\n",
      "Inventory Cost per unit per year : 0.2\n",
      "Production Rate : 0\n",
      "Shortage cost per unit : 0\n",
      "Choose Model : 1\n",
      "The optimal Order Quantity is : 1414.213562373095\n"
     ]
    }
   ],
   "source": [
    "'''\n",
    "NAME : ANUSHA SINGH\n",
    "SECTION : B\n",
    "COLLEGE : DEPARTMENT OF OPERATIONAL RESEARCH, NORTH CAMPUS\n",
    "'''\n",
    "\n",
    "# Write a Program to determine EOQ using various inventory models.\n",
    "\n",
    "def model1(A,lamb,Ic):\n",
    " val = (2*A*lamb/Ic)**(0.5)\n",
    " print(val)\n",
    "def model2(A,lamb,Ic,xi):\n",
    " val = ((2*A*lamb/Ic)*xi/(xi-lamb))**(0.5)\n",
    " print(val)\n",
    "def model3(A,lamb,Ic,pi):\n",
    " val = ((2*A*lamb/Ic)*(pi + Ic)/pi)**(0.5)\n",
    " print(val)\n",
    "def model4(A,lamb,Ic,pi,xi):\n",
    " val = ((2*A*lamb/Ic)*(xi/(xi-lamb))*((pi + Ic)/pi))**(0.5)\n",
    " print(val)\n",
    "A = float(input(\"Ordering cost per order : \"))\n",
    "lamb = float(input(\"Demand rate per year : \"))\n",
    "Ic = float(input(\"Inventory Cost per unit per year : \"))\n",
    "xi = float(input(\"Production Rate : \"))\n",
    "pi = float(input(\"Shortage cost per unit : \"))\n",
    "model = int(input(\"Choose Model : \"))\n",
    "print(\"The optimal Order Quantity is : \", end = \"\")\n",
    "if model == 1:\n",
    " model1(A,lamb,Ic)\n",
    "if model == 2:\n",
    " model2(A,lamb,Ic,xi)\n",
    "if model == 3:\n",
    " model3(A,lamb,Ic,pi)\n",
    "if model == 4:\n",
    " model4(A,lamb,Ic,pi,xi)\n",
    "if model == 5:\n",
    " pass"
   ]
  },
  {
   "cell_type": "markdown",
   "id": "0967736e",
   "metadata": {},
   "source": [
    "# Program-2"
   ]
  },
  {
   "cell_type": "code",
   "execution_count": 2,
   "id": "1d4acd9f",
   "metadata": {},
   "outputs": [
    {
     "name": "stdout",
     "output_type": "stream",
     "text": [
      "Enter arrival rate : 6\n",
      "Enter service rate : 7\n",
      "Expected system size is :  6\n",
      "Expected queue size is :  5\n",
      "Expected queue size of non-empty queues is :  7\n",
      "Expected waiting time is :  1.0\n",
      "Expected waiting time in queue is 0.8571428571428571\n"
     ]
    }
   ],
   "source": [
    "'''\n",
    "NAME : ANUSHA SINGH\n",
    "SECTION : B\n",
    "COLLEGE : DEPARTMENT OF OPERATIONAL RESEARCH, NORTH CAMPUS\n",
    "'''\n",
    "\n",
    "# Write a Program to determine different characteristics using various Queuing models.\n",
    "\n",
    "def mm1(l,m,c=1):\n",
    " slen = int(l/(m-l))\n",
    " qlen = int(l*l/(m*(m-l)))\n",
    " qlen_dash = int(m/(m-l))\n",
    " \n",
    " swait = 1/(m-l)\n",
    " qwait = l/(m*(m-l))\n",
    " \n",
    " print('Expected system size is : ',slen)\n",
    " print('Expected queue size is : ',qlen)\n",
    " print('Expected queue size of non-empty queues is : ',qlen_dash)\n",
    " print('Expected waiting time is : ',swait)\n",
    " print('Expected waiting time in queue is', qwait)\n",
    " \n",
    "l = float(input('Enter arrival rate : '))\n",
    "m = float(input('Enter service rate : '))\n",
    "mm1(l,m)"
   ]
  },
  {
   "cell_type": "markdown",
   "id": "8336ca36",
   "metadata": {},
   "source": [
    "# Program-3"
   ]
  },
  {
   "cell_type": "code",
   "execution_count": 10,
   "id": "4361b3e1",
   "metadata": {},
   "outputs": [
    {
     "name": "stdout",
     "output_type": "stream",
     "text": [
      "Name: John Doe, Employee ID: 1001, Department: Finance\n",
      "Name: Alice Smith, Employee ID: 2001, Office: Front Office\n"
     ]
    }
   ],
   "source": [
    "'''\n",
    "NAME : ANUSHA SINGH\n",
    "SECTION : B\n",
    "COLLEGE : DEPARTMENT OF OPERATIONAL RESEARCH, NORTH CAMPUS\n",
    "'''\n",
    "\n",
    "'''\n",
    "Write a Program to implement Inheritance. Create a class Employee inherit two classes Manager\n",
    "and Clerk from Employee.\n",
    "'''\n",
    "\n",
    "class Employee:\n",
    "    def __init__(self, name, employee_id):\n",
    "        self.name = name\n",
    "        self.employee_id = employee_id\n",
    "\n",
    "    def display_info(self):\n",
    "        print(f\"Name: {self.name}, Employee ID: {self.employee_id}\")\n",
    "\n",
    "\n",
    "class Manager(Employee):\n",
    "    def __init__(self, name, employee_id, department):\n",
    "        super().__init__(name, employee_id)\n",
    "        self.department = department\n",
    "\n",
    "    def display_info(self):  # Override display_info method for Manager\n",
    "        print(f\"Name: {self.name}, Employee ID: {self.employee_id}, Department: {self.department}\")\n",
    "\n",
    "\n",
    "class Clerk(Employee):\n",
    "    def __init__(self, name, employee_id, office):\n",
    "        super().__init__(name, employee_id)\n",
    "        self.office = office\n",
    "\n",
    "    def display_info(self):  # Override display_info method for Clerk\n",
    "        print(f\"Name: {self.name}, Employee ID: {self.employee_id}, Office: {self.office}\")\n",
    "\n",
    "\n",
    "# Example usage\n",
    "if __name__ == \"__main__\":\n",
    "    # Creating instances of Manager and Clerk\n",
    "    manager = Manager(\"John Doe\", 1001, \"Finance\")\n",
    "    clerk = Clerk(\"Alice Smith\", 2001, \"Front Office\")\n",
    "\n",
    "    # Displaying information using overridden display_info methods\n",
    "    manager.display_info()\n",
    "    clerk.display_info()"
   ]
  },
  {
   "cell_type": "markdown",
   "id": "593a9418",
   "metadata": {},
   "source": [
    "# Program-4"
   ]
  },
  {
   "cell_type": "code",
   "execution_count": 11,
   "id": "5f05f059",
   "metadata": {},
   "outputs": [
    {
     "data": {
      "text/plain": [
       "[<matplotlib.lines.Line2D at 0x237fbaf8670>]"
      ]
     },
     "execution_count": 11,
     "metadata": {},
     "output_type": "execute_result"
    },
    {
     "data": {
      "image/png": "[encoded data removed]",
      "text/plain": [
       "<Figure size 640x480 with 1 Axes>"
      ]
     },
     "metadata": {},
     "output_type": "display_data"
    }
   ],
   "source": [
    "'''\n",
    "NAME : ANUSHA SINGH\n",
    "SECTION : B\n",
    "COLLEGE : DEPARTMENT OF OPERATIONAL RESEARCH, NORTH CAMPUS\n",
    "'''\n",
    "\n",
    "# Program to fit Poisson distribution on a given data.\n",
    "\n",
    "import numpy as np\n",
    "import matplotlib.pyplot as plt\n",
    "from scipy.optimize import curve_fit\n",
    "from scipy.special import factorial\n",
    "def poisson(k, lamb, scale):\n",
    " return scale*(lamb**k/factorial(k))*np.exp(-lamb)\n",
    "np.random.seed(42)\n",
    "data = np.random.poisson(5,100)\n",
    "fig, ax = plt.subplots()\n",
    "ax.hist(data,bins=10,alpha=0.3)\n",
    "y,x=np.histogram(data,bins=10)\n",
    "x = x + (x[1]-x[0])/2\n",
    "x = np.delete(x,-1)\n",
    "parameters, cov_matrix = curve_fit(poisson, x, y, p0=[2., 2.])\n",
    "x_new = np.linspace(x[1], x[-1], 50)\n",
    "ax.plot(x_new, poisson(x_new, *parameters), color='b')"
   ]
  }
 ],
 "metadata": {
  "kernelspec": {
   "display_name": "Python 3 (ipykernel)",
   "language": "python",
   "name": "python3"
  },
  "language_info": {
   "codemirror_mode": {
    "name": "ipython",
    "version": 3
   },
   "file_extension": ".py",
   "mimetype": "text/x-python",
   "name": "python",
   "nbconvert_exporter": "python",
   "pygments_lexer": "ipython3",
   "version": "3.10.9"
  }
 },
 "nbformat": 4,
 "nbformat_minor": 5
}
