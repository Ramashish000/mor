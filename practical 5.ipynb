{
 "cells": [
  {
   "cell_type": "markdown",
   "id": "c0c5e910",
   "metadata": {},
   "source": [
    "# Name: Nandunam Sai Kuimar"
   ]
  },
  {
   "cell_type": "markdown",
   "id": "78434c2c",
   "metadata": {},
   "source": [
    "# College:Department of Operational Research"
   ]
  },
  {
   "cell_type": "markdown",
   "id": "0fe3b648",
   "metadata": {},
   "source": [
    "# Section :B"
   ]
  },
  {
   "cell_type": "markdown",
   "id": "3e1e4251",
   "metadata": {},
   "source": [
    "# practical/assignment--5"
   ]
  },
  {
   "cell_type": "code",
   "execution_count": 4,
   "id": "d29a4255",
   "metadata": {},
   "outputs": [
    {
     "name": "stdout",
     "output_type": "stream",
     "text": [
      "enter the demand: 600\n",
      "enter the setup cost: 30\n",
      "enter the holding_cost: 40\n",
      "enter the  shortage_cost: 8\n",
      "enter the production: 410\n",
      "EOQ using basic model: 30.0\n",
      "EOQ using extended model with shortage: 30.000222221399184\n",
      "EOQ using production model: 20.42236937115053j\n"
     ]
    }
   ],
   "source": [
    "#write a program to determine EOQ using various inventory models\n",
    "import cmath\n",
    "import math\n",
    "# EOQ using basic model\n",
    "\n",
    "def eoq_basic(demand, setup_cost , holding_cost):\n",
    "    eoq=math.sqrt((2*demand*setup_cost)/holding_cost)\n",
    "    return eoq\n",
    "\n",
    "#eoq using extended model with shortage\n",
    "def eoq_shortage(demand,setup_cost , holding_cost,shortage_cost):\n",
    "    eoq=math.sqrt((2*demand*setup_cost)/holding_cost+(shortage_cost/demand))\n",
    "    return eoq\n",
    "#using production model\n",
    "def eoq_production(demand,setup_cost , holding_cost,production_rate):\n",
    "    eoq=cmath.sqrt((2*demand*setup_cost)/holding_cost*(1-(demand/production_rate)))\n",
    "    return eoq\n",
    "def main():\n",
    "    demand= int (input(\"enter the demand: \"))\n",
    "    setup=int (input(\"enter the setup cost: \"))\n",
    "    holding=int (input(\"enter the holding_cost: \"))\n",
    "    shortage=int (input(\"enter the  shortage_cost: \"))\n",
    "    production=int (input(\"enter the production: \"))\n",
    "    print(\"EOQ using basic model:\", eoq_basic(demand,setup,holding))\n",
    "    print(\"EOQ using extended model with shortage:\", eoq_shortage(demand,setup,holding,shortage))\n",
    "    print(\"EOQ using production model:\", eoq_production(demand,setup,holding,production))\n",
    "main()    "
   ]
  },
  {
   "cell_type": "code",
   "execution_count": 9,
   "id": "f8847122",
   "metadata": {},
   "outputs": [
    {
     "name": "stdout",
     "output_type": "stream",
     "text": [
      "Enter the arrival rate: 8\n",
      "Enter the service rate: 10\n",
      "Enter \n",
      "1. For M/M/1 \n",
      "2. For M/M/c \n",
      "3. For M/G/1\n",
      "2\n",
      "Enter number of servers (in case of M/M/c): 2\n",
      "\n",
      "---M/M/C Queueing Model---\n",
      "Probability that the server is busy:  0.05\n",
      "Probability that the server is idle:  0.95\n",
      "Expected number of customers in the system:  0.025003462603878125\n",
      "Expected number of customers in the queue:  0.0013885041551246543\n",
      "Average waiting time in the system:  0.025320006521979254\n",
      "Average waiting time in the queue:  0.00140608262225643\n"
     ]
    }
   ],
   "source": [
    "import math\n",
    "\n",
    "def mm1(arrival_rate, service_rate):\n",
    "    rho = arrival_rate / service_rate\n",
    "    print(\"Probability that the server is busy: \", rho)\n",
    "    p0 = 1 - rho\n",
    "    print(\"Probability that the server is idle: \", p0)\n",
    "    L = rho / (1 - rho)\n",
    "    print(\"Expected number of customers in the system: \", L)\n",
    "    Lq = (rho ** 2) / (1 - rho)\n",
    "    print(\"Expected number of customers in the queue: \", Lq)\n",
    "    w = 1 / (service_rate - arrival_rate)\n",
    "    print(\"Average waiting time in the system: \", w)\n",
    "    wq = rho / (service_rate - arrival_rate)\n",
    "    print(\"Average waiting time in the queue: \", wq)\n",
    "\n",
    "def mmc(arrival_rate, service_rate, c):\n",
    "    rho = 1 / (c * service_rate)\n",
    "    print(\"Probability that the server is busy: \", rho)\n",
    "    p0 = 1 - rho\n",
    "    print(\"Probability that the server is idle: \", p0)\n",
    "    r = rho ** c\n",
    "    L = r / ((math.factorial(c)) * p0) * (((c * service_rate) / 1) - 1 + r / p0)\n",
    "    print(\"Expected number of customers in the system: \", L)\n",
    "    Lq = r / ((math.factorial(c)) * p0) * (rho / (p0 ** 2)) * ((c * service_rate / 1) - 1 - rho ** c + (rho))\n",
    "    print(\"Expected number of customers in the queue: \", Lq)\n",
    "    W = L / (1 * (1 - (L / c)))\n",
    "    print(\"Average waiting time in the system: \", W)\n",
    "    Wq = Lq / (1 * (1 - (L / c)))\n",
    "    print(\"Average waiting time in the queue: \", Wq)\n",
    "\n",
    "def mg1(arrival_rate, service_rate):\n",
    "    st = 1 / service_rate\n",
    "    rho = arrival_rate * st\n",
    "    print(\"Probability that the server is busy: \", rho)\n",
    "    p0 = 1 - rho\n",
    "    print(\"Probability that the server is idle: \", p0)\n",
    "    Lq = ((1 ** 2) * (st ** 2)) / (2 * p0)\n",
    "    print(\"Expected number of customers in the queue: \", Lq)\n",
    "    L = Lq + rho\n",
    "    print(\"Expected number of customers in the system: \", L)\n",
    "    Wq = Lq / 1\n",
    "    print(\"Average waiting time in the queue: \", Wq)\n",
    "    W = Wq + (1 / st)\n",
    "    print(\"Average waiting time in the system: \", W)\n",
    "\n",
    "def main():\n",
    "    arrival_rate = float(input(\"Enter the arrival rate: \"))\n",
    "    service_rate = float(input(\"Enter the service rate: \"))\n",
    "    print('Enter \\n1. For M/M/1 \\n2. For M/M/c \\n3. For M/G/1')\n",
    "    k = int(input())\n",
    "    if k == 1:\n",
    "        print(\"\\n---M/M/1 Queueing Model---\")\n",
    "        mm1(arrival_rate, service_rate)\n",
    "    elif k == 2:\n",
    "        c = int(input(\"Enter number of servers (in case of M/M/c): \"))\n",
    "        print(\"\\n---M/M/C Queueing Model---\")\n",
    "        mmc(arrival_rate, service_rate, c)\n",
    "    else:\n",
    "        print(\"\\n--M/G/1 Queueing Model---\")\n",
    "        mg1(arrival_rate, service_rate)\n",
    "\n",
    "main()\n"
   ]
  },
  {
   "cell_type": "code",
   "execution_count": 10,
   "id": "f2cb8933",
   "metadata": {},
   "outputs": [
    {
     "name": "stdout",
     "output_type": "stream",
     "text": [
      "Manager Information:\n",
      "Name: John Doe\n",
      "Employee ID: 1001\n",
      "Department: Sales\n",
      "Position: Manager\n",
      "\n",
      "==============================\n",
      "\n",
      "Clerk Information:\n",
      "Name: Jane Smith\n",
      "Employee ID: 2001\n",
      "Office: Front Desk\n",
      "Position: Clerk\n"
     ]
    }
   ],
   "source": [
    "#write program to implement inheritance. Create a class employee inherit two classes Manager and Clerk from employee.\n",
    "\n",
    "class Employee:\n",
    "    def __init__(self, name, employee_id):\n",
    "        self.name = name\n",
    "        self.employee_id = employee_id\n",
    "\n",
    "    def display_info(self):\n",
    "        print(f\"Name: {self.name}\\nEmployee ID: {self.employee_id}\")\n",
    "\n",
    "\n",
    "class Manager(Employee):\n",
    "    def __init__(self, name, employee_id, department):\n",
    "        # Call the constructor of the base class (Employee)\n",
    "        super().__init__(name, employee_id)\n",
    "        self.department = department\n",
    "\n",
    "    def display_info(self):\n",
    "        # Call the display_info method of the base class (Employee)\n",
    "        super().display_info()\n",
    "        print(f\"Department: {self.department}\\nPosition: Manager\")\n",
    "\n",
    "\n",
    "class Clerk(Employee):\n",
    "    def __init__(self, name, employee_id, office):\n",
    "        # Call the constructor of the base class (Employee)\n",
    "        super().__init__(name, employee_id)\n",
    "        self.office = office\n",
    "\n",
    "    def display_info(self):\n",
    "        # Call the display_info method of the base class (Employee)\n",
    "        super().display_info()\n",
    "        print(f\"Office: {self.office}\\nPosition: Clerk\")\n",
    "\n",
    "\n",
    "# Example \n",
    "manager = Manager(\"John Doe\", 1001, \"Sales\")\n",
    "clerk = Clerk(\"Jane Smith\", 2001, \"Front Desk\")\n",
    "\n",
    "# Display information for Manager\n",
    "print(\"Manager Information:\")\n",
    "manager.display_info()\n",
    "print(\"\\n\" + \"=\" * 30 + \"\\n\")\n",
    "\n",
    "# Display information for Clerk\n",
    "print(\"Clerk Information:\")\n",
    "clerk.display_info()\n"
   ]
  },
  {
   "cell_type": "code",
   "execution_count": 13,
   "id": "b83b1d66",
   "metadata": {},
   "outputs": [
    {
     "name": "stdout",
     "output_type": "stream",
     "text": [
      "estimated value of mu: 3.8\n",
      "poisson distribution: <scipy.stats._distn_infrastructure.rv_discrete_frozen object at 0x00000266000197E0>\n"
     ]
    },
    {
     "data": {
      "text/plain": [
       "scipy.stats._distn_infrastructure.rv_discrete_frozen"
      ]
     },
     "execution_count": 13,
     "metadata": {},
     "output_type": "execute_result"
    }
   ],
   "source": [
    "#program to fit a poisson distribution on a given \n",
    "import scipy.stats as stats\n",
    "\n",
    "# Small example dataset\n",
    "data = [2, 3, 2, 4, 5, 3, 6, 4, 5, 6, 3, 4, 5, 2, 3]\n",
    "\n",
    "# Fit a Poisson distribution to the data\n",
    "mu = sum(data)/len(data)\n",
    "poisson_dist = stats.poisson(mu)\n",
    "print(\"estimated value of mu:\",mu)\n",
    "print(\"poisson distribution:\",poisson_dist)\n",
    "type(poisson_dist)\n"
   ]
  },
  {
   "cell_type": "code",
   "execution_count": null,
   "id": "680023b5",
   "metadata": {},
   "outputs": [],
   "source": []
  }
 ],
 "metadata": {
  "kernelspec": {
   "display_name": "Python 3 (ipykernel)",
   "language": "python",
   "name": "python3"
  },
  "language_info": {
   "codemirror_mode": {
    "name": "ipython",
    "version": 3
   },
   "file_extension": ".py",
   "mimetype": "text/x-python",
   "name": "python",
   "nbconvert_exporter": "python",
   "pygments_lexer": "ipython3",
   "version": "3.10.9"
  }
 },
 "nbformat": 4,
 "nbformat_minor": 5
}
