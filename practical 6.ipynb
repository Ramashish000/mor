{
 "cells": [
  {
   "cell_type": "markdown",
   "id": "55709098",
   "metadata": {},
   "source": [
    "# Name: Nandunam Sai Kuimar"
   ]
  },
  {
   "cell_type": "markdown",
   "id": "cffbc8ae",
   "metadata": {},
   "source": [
    "# College:Department of Operational Research"
   ]
  },
  {
   "cell_type": "markdown",
   "id": "0b998e24",
   "metadata": {},
   "source": [
    "# Section :B"
   ]
  },
  {
   "cell_type": "markdown",
   "id": "2c0e3759",
   "metadata": {},
   "source": [
    "# practical/assignment--5"
   ]
  },
  {
   "cell_type": "code",
   "execution_count": 1,
   "id": "ee0a8daa",
   "metadata": {},
   "outputs": [
    {
     "name": "stdout",
     "output_type": "stream",
     "text": [
      "Sample data of independent variables, x: [[1]\n",
      " [2]\n",
      " [3]\n",
      " [4]\n",
      " [5]]\n",
      "Sample data of independent variable, y: [2 3 4 5 6]\n",
      "Predicted value of y for x = 6 is 7.000000000000001\n"
     ]
    }
   ],
   "source": [
    "#write a program to implement linear regression using python\n",
    "import numpy as np\n",
    "from sklearn.linear_model import LinearRegression\n",
    "\n",
    "# Generate some example data\n",
    "x = np.array([1, 2, 3, 4, 5]).reshape((-1, 1))\n",
    "y = np.array([2, 3, 4, 5, 6])\n",
    "\n",
    "print(\"Sample data of independent variables, x:\", x)\n",
    "print(\"Sample data of independent variable, y:\", y)\n",
    "\n",
    "# Create a Linear regression model and fit it to the data\n",
    "model = LinearRegression()\n",
    "model.fit(x, y)\n",
    "\n",
    "# Make a prediction for a new value of x\n",
    "x_new = np.array([6]).reshape((-1, 1))\n",
    "y_new = model.predict(x_new)\n",
    "\n",
    "# Print the predicted value of y\n",
    "print(\"Predicted value of y for x =\", x_new[0, 0], \"is\", y_new[0])\n"
   ]
  },
  {
   "cell_type": "code",
   "execution_count": 2,
   "id": "bd9f95a6",
   "metadata": {},
   "outputs": [
    {
     "name": "stdout",
     "output_type": "stream",
     "text": [
      "['Name', 'Age', 'Gender']\n",
      "['Rahul', '33', 'Male']\n",
      "['Swati', '28', 'Female']\n"
     ]
    }
   ],
   "source": [
    "# write a program to perform read and write operation with .csv file\n",
    "import csv\n",
    "\n",
    "# Write data to a csv file\n",
    "with open('data.csv', mode='w', newline='') as file:\n",
    "    writer = csv.writer(file)\n",
    "    writer.writerow(['Name', 'Age', 'Gender'])\n",
    "    writer.writerow(['Rahul', '33', 'Male'])\n",
    "    writer.writerow(['Swati', '28', 'Female'])\n",
    "\n",
    "# Read data from a csv file\n",
    "with open('data.csv', mode='r') as file:\n",
    "    reader = csv.reader(file)\n",
    "    for row in reader:\n",
    "        print(row)\n"
   ]
  },
  {
   "cell_type": "code",
   "execution_count": 3,
   "id": "54bea39a",
   "metadata": {},
   "outputs": [
    {
     "name": "stdout",
     "output_type": "stream",
     "text": [
      "      Name  Age  Gender\n",
      "0    parul   35    Male\n",
      "1  anshika   28  Female\n",
      "2   manish   25    Male\n"
     ]
    }
   ],
   "source": [
    "#3.Write a program to enter multiple value-based data in multiple column/rows and show that data in python using DataFrames and pandas. WAP in python to perform various statistical measures using pandas.\n",
    "import pandas as pd\n",
    "\n",
    "# Let's use a list of dictionaries to store data\n",
    "data = [\n",
    "    {'Name': 'parul', 'Age': 35, 'Gender': 'Male'},\n",
    "    {'Name': 'anshika', 'Age': 28, 'Gender': 'Female'},\n",
    "    {'Name': 'manish', 'Age': 25, 'Gender': 'Male'}\n",
    "]\n",
    "\n",
    "# Create a DataFrame from the data\n",
    "df = pd.DataFrame(data)\n",
    "\n",
    "# Display the DataFrame\n",
    "print(df)\n"
   ]
  },
  {
   "cell_type": "code",
   "execution_count": 4,
   "id": "d4b45a44",
   "metadata": {},
   "outputs": [
    {
     "name": "stdout",
     "output_type": "stream",
     "text": [
      "      Name  Age  Gender  Salary\n",
      "0    karan   25    Male   60000\n",
      "1    parul   30    Male   70000\n",
      "2  chandan   45    Male   80000\n",
      "3      esa   35  Female   90000\n",
      "Mean salary: 75000.0\n",
      "Median age: 32.5\n",
      "Mode gender: Male\n",
      "Standard deviation of salary: 12909.944487358056\n",
      "Correlation coefficient between age and salary: 0.6803360514166091\n"
     ]
    }
   ],
   "source": [
    "import pandas as pd\n",
    "\n",
    "data = {'Name': ['karan', 'parul', 'chandan', 'esa'],\n",
    "        'Age': [25, 30, 45, 35],\n",
    "        'Gender': ['Male', 'Male', 'Male', 'Female'],\n",
    "        'Salary': [60000, 70000, 80000, 90000]}  # I assumed the missing digits for the 'Salary'\n",
    "\n",
    "df = pd.DataFrame(data)\n",
    "\n",
    "print(df)\n",
    "\n",
    "mean_salary = df['Salary'].mean()\n",
    "print('Mean salary:', mean_salary)\n",
    "\n",
    "median_age = df['Age'].median()\n",
    "print('Median age:', median_age)\n",
    "\n",
    "mode_gender = df['Gender'].mode()[0]  # Fixed the typo\n",
    "print('Mode gender:', mode_gender)\n",
    "\n",
    "std_dev_salary = df['Salary'].std()\n",
    "print('Standard deviation of salary:', std_dev_salary)\n",
    "\n",
    "corr_coeff = df['Age'].corr(df['Salary'])\n",
    "print('Correlation coefficient between age and salary:', corr_coeff)\n"
   ]
  },
  {
   "cell_type": "code",
   "execution_count": null,
   "id": "7cddf5cb",
   "metadata": {},
   "outputs": [],
   "source": []
  }
 ],
 "metadata": {
  "kernelspec": {
   "display_name": "Python 3 (ipykernel)",
   "language": "python",
   "name": "python3"
  },
  "language_info": {
   "codemirror_mode": {
    "name": "ipython",
    "version": 3
   },
   "file_extension": ".py",
   "mimetype": "text/x-python",
   "name": "python",
   "nbconvert_exporter": "python",
   "pygments_lexer": "ipython3",
   "version": "3.10.9"
  }
 },
 "nbformat": 4,
 "nbformat_minor": 5
}
