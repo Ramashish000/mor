{
 "cells": [
  {
   "cell_type": "markdown",
   "id": "85eae12c",
   "metadata": {},
   "source": [
    "# NAME = RAMASHISH KUMAR\n",
    "## COLLEGE = DEPARTMENT OF OPRATION RESEARCH\n",
    "## SECTION = 'B'"
   ]
  },
  {
   "cell_type": "code",
   "execution_count": null,
   "id": "0c0684e8",
   "metadata": {},
   "outputs": [],
   "source": [
    "def factorial_recursive(n):\n",
    "    \"\"\"Calculate the factorial of a number using recursion.\"\"\"\n",
    "    if n == 0 or n == 1:\n",
    "        return 1\n",
    "    else:\n",
    "        return n * factorial_recursive(n - 1)\n",
    "\n",
    "def main():\n",
    "    num = int(input(\"Enter a number: \"))\n",
    "    \n",
    "    if num < 0:\n",
    "        print(\"Factorial is not defined for negative numbers.\")\n",
    "    else:\n",
    "        result = factorial_recursive(num)\n",
    "        print(f\"The factorial of {num} is: {result}\")\n",
    "\n",
    "if __name__ == \"__main__\":\n",
    "    main()"
   ]
  },
  {
   "cell_type": "code",
   "execution_count": null,
   "id": "e9990261",
   "metadata": {},
   "outputs": [],
   "source": [
    "def generate_fibonacci(n):\n",
    "    \"\"\"Generate Fibonacci series up to n terms.\"\"\"\n",
    "    fibonacci_series = [0, 1]\n",
    "\n",
    "    for _ in range(2, n):\n",
    "        next_term = fibonacci_series[-1] + fibonacci_series[-2]\n",
    "        fibonacci_series.append(next_term)\n",
    "\n",
    "    return fibonacci_series\n",
    "\n",
    "def main():\n",
    "    num_terms = int(input(\"Enter the number of terms for the Fibonacci series: \"))\n",
    "\n",
    "    if num_terms <= 0:\n",
    "        print(\"Please enter a positive integer for the number of terms.\")\n",
    "    else:\n",
    "        fibonacci_series = generate_fibonacci(num_terms)\n",
    "        print(f\"The Fibonacci series with {num_terms} terms is:\")\n",
    "        print(fibonacci_series)\n",
    "\n",
    "if __name__ == \"__main__\":\n",
    "    main()"
   ]
  },
  {
   "cell_type": "code",
   "execution_count": null,
   "id": "3115576e",
   "metadata": {},
   "outputs": [],
   "source": [
    "def find_greatest_number():\n",
    "    \"\"\"Find the greatest number from a series of inputs.\"\"\"\n",
    "    num_terms = int(input(\"Enter the number of terms: \"))\n",
    "\n",
    "    if num_terms <= 0:\n",
    "        print(\"Please enter a positive integer for the number of terms.\")\n",
    "        return\n",
    "\n",
    "    # Initialize the greatest number with the first input\n",
    "    greatest_number = float(input(\"Enter number 1: \"))\n",
    "\n",
    "    for i in range(2, num_terms + 1):\n",
    "        current_number = float(input(f\"Enter number {i}: \"))\n",
    "        if current_number > greatest_number:\n",
    "            greatest_number = current_number\n",
    "\n",
    "    print(f\"The greatest number is: {greatest_number}\")\n",
    "\n",
    "if __name__ == \"__main__\":\n",
    "    find_greatest_number()"
   ]
  }
 ],
 "metadata": {
  "kernelspec": {
   "display_name": "Python 3 (ipykernel)",
   "language": "python",
   "name": "python3"
  },
  "language_info": {
   "codemirror_mode": {
    "name": "ipython",
    "version": 3
   },
   "file_extension": ".py",
   "mimetype": "text/x-python",
   "name": "python",
   "nbconvert_exporter": "python",
   "pygments_lexer": "ipython3",
   "version": "3.11.5"
  }
 },
 "nbformat": 4,
 "nbformat_minor": 5
}
