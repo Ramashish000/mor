{
 "cells": [
  {
   "cell_type": "markdown",
   "id": "ff034348",
   "metadata": {},
   "source": [
    "# NAME = RAMASHISH KUMAR\n",
    "## COLLEGE = DEPARTMENT OF OPRATION RESEARCH\n",
    "## SECTION = 'B'"
   ]
  },
  {
   "cell_type": "code",
   "execution_count": null,
   "id": "90a1e03f",
   "metadata": {},
   "outputs": [],
   "source": [
    "# 1. Write a Program to enter the 5 subjects numbers and print the grades A/B/C/D/E.\n",
    "# Enter the five subjects numbers and prints the grades\n",
    "subject1=int(input(\"Enter marks for subjects 1: \"))\n",
    "subject2=int(input(\"Enter marks for subjects 2: \"))\n",
    "subject3=int(input(\"Enter marks for subjects 3: \"))\n",
    "subject4=int(input(\"Enter marks for subjects 4: \"))\n",
    "subject5=int(input(\"Enter marks for subjects 5: \"))\n",
    "average = (subject1+subject2+subject3+subject4+subject5+subject5)/5\n",
    "if average>=90:\n",
    "    grade = \"A\"\n",
    "elif average>=80:\n",
    "    grade= \"B\"\n",
    "elif average>=70:\n",
    "    grade = \"C\"\n",
    "elif average>=60:\n",
    "    grade = \"D\"\n",
    "else:\n",
    "    grade = \"E\"\n",
    "print(\"Your average marksi:\",average)\n",
    "print(\"Your letter grade is:\",grade)"
   ]
  },
  {
   "cell_type": "code",
   "execution_count": null,
   "id": "18887249",
   "metadata": {},
   "outputs": [],
   "source": [
    "# Display the parttern\n",
    "size=5\n",
    "for i in range(size):\n",
    "    for j in range(size-i-1):\n",
    "        print(\" \",end=\" \")\n",
    "    for j in range(i,-1,-1): \n",
    "        print(5-j,end=\" \")\n",
    "    print( ) "
   ]
  },
  {
   "cell_type": "code",
   "execution_count": null,
   "id": "bbe0ceef",
   "metadata": {},
   "outputs": [],
   "source": [
    "# To calculate value of sin(x) using its taylor series expansion upto n terms\n",
    "import math\n",
    "def sin(x,n):\n",
    "    x=math.radians(x)\n",
    "    sum=0\n",
    "    sign=1\n",
    "    for i in range(1,n*2,2):\n",
    "        term=(x**i)/math.factorial(i)\n",
    "        sum+=sign * term\n",
    "        sign *= -1\n",
    "        \n",
    "    return sum\n",
    "print(sin(30,10))"
   ]
  },
  {
   "cell_type": "code",
   "execution_count": null,
   "id": "b227526a",
   "metadata": {},
   "outputs": [],
   "source": []
  }
 ],
 "metadata": {
  "kernelspec": {
   "display_name": "Python 3 (ipykernel)",
   "language": "python",
   "name": "python3"
  },
  "language_info": {
   "codemirror_mode": {
    "name": "ipython",
    "version": 3
   },
   "file_extension": ".py",
   "mimetype": "text/x-python",
   "name": "python",
   "nbconvert_exporter": "python",
   "pygments_lexer": "ipython3",
   "version": "3.11.5"
  }
 },
 "nbformat": 4,
 "nbformat_minor": 5
}
