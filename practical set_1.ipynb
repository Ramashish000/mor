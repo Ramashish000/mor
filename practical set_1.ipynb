{
 "cells": [
  {
   "cell_type": "markdown",
   "id": "8e894fb1",
   "metadata": {},
   "source": [
    "# NAME = RAMASHISH KUMAR \n",
    "## COLLEGE = DEPARTMENT OF OPRATION RESEARCH \n",
    "## SECTION = 'B'"
   ]
  },
  {
   "cell_type": "code",
   "execution_count": 2,
   "id": "150c6fda",
   "metadata": {},
   "outputs": [
    {
     "name": "stdout",
     "output_type": "stream",
     "text": [
      "Enter your nammeRamashish kumar \n",
      "Hello Ramashish kumar \n"
     ]
    }
   ],
   "source": [
    "#1. Write a program to enter name and display as “Hello, Name”.\n",
    "name = input('Enter your namme')\n",
    "print('Hello '+ name)"
   ]
  },
  {
   "cell_type": "code",
   "execution_count": 1,
   "id": "b718b34f",
   "metadata": {},
   "outputs": [
    {
     "name": "stdout",
     "output_type": "stream",
     "text": [
      "Enter first number : 5\n",
      "Enter oprator (+,-,*,/,//,%) : /\n",
      "Enter second number : 2\n",
      "result = 2.5\n"
     ]
    }
   ],
   "source": [
    "# 2.  Write a menu driven program to enter two numbers and print the arithmetic operations like\n",
    "#     a. + b. – c. * d. / e. // f. %.\n",
    "num1=input('Enter first number : ')\n",
    "num1=int(num1)\n",
    "oprator=input('Enter oprator (+,-,*,/,//,%) : ')\n",
    "num2=input('Enter second number : ')\n",
    "num2=int(num2)\n",
    "\n",
    "if oprator =='+':\n",
    "    print('result = '+str(num1+num2))\n",
    "elif oprator =='-':\n",
    "    print('result = '+str(num1-num2))\n",
    "elif oprator =='*':\n",
    "    print('result = '+str(num1*num2))\n",
    "elif oprator == '/':\n",
    "    print('result = '+str(num1/num2))\n",
    "elif oprator == '//':\n",
    "    print('result = '+str(num1//num2))\n",
    "elif oprator == '%':\n",
    "    print('result = '+str(num1%num2))\n",
    "else:\n",
    "    print('Invalid!')"
   ]
  },
  {
   "cell_type": "code",
   "execution_count": null,
   "id": "21587ac2",
   "metadata": {},
   "outputs": [],
   "source": [
    "import math"
   ]
  },
  {
   "cell_type": "code",
   "execution_count": 5,
   "id": "396cf33f",
   "metadata": {},
   "outputs": [
    {
     "name": "stdout",
     "output_type": "stream",
     "text": [
      "Enter cofficent of x**2 : 98\n",
      "Enter cofficent of x : -89\n",
      "Enter constant : 78\n",
      "your quadratic equation is : 98.0x^2-89.0x +78.0\n"
     ]
    }
   ],
   "source": [
    "# 3. Write a program to compute the roots of a quadratic equation.\n",
    "a = float(input('Enter cofficent of x**2 : '))\n",
    "b = float(input('Enter cofficent of x : '))\n",
    "c = float(input('Enter constant : '))\n",
    "print('your quadratic equation is : '+str(a)+'x^2'+str(b)+'x +'+str(c))\n",
    "D\n"
   ]
  },
  {
   "cell_type": "code",
   "execution_count": 6,
   "id": "72e41e7c",
   "metadata": {},
   "outputs": [
    {
     "name": "stdout",
     "output_type": "stream",
     "text": [
      "678\n",
      "876\n"
     ]
    }
   ],
   "source": [
    "num8=input()\n",
    "print(num8[::-1])"
   ]
  },
  {
   "cell_type": "code",
   "execution_count": null,
   "id": "6f9d253a",
   "metadata": {},
   "outputs": [],
   "source": []
  }
 ],
 "metadata": {
  "kernelspec": {
   "display_name": "Python 3 (ipykernel)",
   "language": "python",
   "name": "python3"
  },
  "language_info": {
   "codemirror_mode": {
    "name": "ipython",
    "version": 3
   },
   "file_extension": ".py",
   "mimetype": "text/x-python",
   "name": "python",
   "nbconvert_exporter": "python",
   "pygments_lexer": "ipython3",
   "version": "3.11.5"
  }
 },
 "nbformat": 4,
 "nbformat_minor": 5
}
