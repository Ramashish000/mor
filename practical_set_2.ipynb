{
 "cells": [
  {
   "cell_type": "markdown",
   "id": "b30de557",
   "metadata": {},
   "source": [
    "# NAME = RAMASHISH KUMAR \n",
    "## COLLEGE = DEPARTMENT OF OPRATION RESEARCH \n",
    "## SECTION = 'B'"
   ]
  },
  {
   "cell_type": "raw",
   "id": "435d0506",
   "metadata": {},
   "source": [
    "Write a menu driven Program to enter the number and print whether the number is\n",
    "a. odd or even\n",
    "b. prime."
   ]
  },
  {
   "cell_type": "code",
   "execution_count": null,
   "id": "fadcba74",
   "metadata": {},
   "outputs": [],
   "source": [
    "num1=int(input(\"Enter any number \"))\n",
    "'your number is = ' +  str(num1)\n",
    "if num1 % 2 == 0 :\n",
    "    print(str(num1) + \" is even number \")\n",
    "else:\n",
    "    print(str(num1)+\" is odd number \")"
   ]
  },
  {
   "cell_type": "code",
   "execution_count": null,
   "id": "c987a378",
   "metadata": {},
   "outputs": [],
   "source": [
    "num2=int(input(\"Enter any number \"))\n",
    "'your number is = ' +  str(num2)\n"
   ]
  },
  {
   "cell_type": "code",
   "execution_count": null,
   "id": "e53a9edb",
   "metadata": {},
   "outputs": [],
   "source": [
    "# Function to find the maximum among three numbers\n",
    "def find_maximum(num1, num2, num3):\n",
    "    return max(num1, num2, num3)\n",
    "\n",
    "# Input three numbers\n",
    "number1 = float(input(\"Enter the first number: \"))\n",
    "number2 = float(input(\"Enter the second number: \"))\n",
    "number3 = float(input(\"Enter the third number: \"))\n",
    "\n",
    "# Find and display the maximum\n",
    "maximum_number = find_maximum(number1, number2, number3)\n",
    "print(\"The maximum number is:\", maximum_number)"
   ]
  },
  {
   "cell_type": "code",
   "execution_count": null,
   "id": "150a49a9",
   "metadata": {},
   "outputs": [],
   "source": [
    "#Python program to find ASCII value of a character and vice versa\n",
    "character=input(\"Enter the character:\")\n",
    "ch=ord(character)\n",
    "print(ch)\n",
    "ASCII=int(input(\"Enter the ASCII value:\"))\n",
    "c=chr(ASCII)\n",
    "print(c)\n"
   ]
  },
  {
   "cell_type": "code",
   "execution_count": null,
   "id": "a6120448",
   "metadata": {},
   "outputs": [],
   "source": [
    "#Python program to check if the number is an armstrong number or not\n",
    "num1=int(input(\"Enter a number\"))\n",
    "order=len(str(num1))\n",
    "sum=0\n",
    "temp=num1\n",
    "while temp>0:\n",
    "    digit=temp%10\n",
    "    sum+=digit**order\n",
    "    temp //=10\n",
    "if num1==sum:\n",
    "    print(num1,\"is Aamstrong number\")\n",
    "else:\n",
    "    print(num1,\"is not an Amstrong number\")"
   ]
  },
  {
   "cell_type": "code",
   "execution_count": null,
   "id": "1c7e43a3",
   "metadata": {},
   "outputs": [],
   "source": []
  }
 ],
 "metadata": {
  "kernelspec": {
   "display_name": "Python 3 (ipykernel)",
   "language": "python",
   "name": "python3"
  },
  "language_info": {
   "codemirror_mode": {
    "name": "ipython",
    "version": 3
   },
   "file_extension": ".py",
   "mimetype": "text/x-python",
   "name": "python",
   "nbconvert_exporter": "python",
   "pygments_lexer": "ipython3",
   "version": "3.11.5"
  }
 },
 "nbformat": 4,
 "nbformat_minor": 5
}
