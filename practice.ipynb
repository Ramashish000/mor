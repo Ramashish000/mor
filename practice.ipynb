{
 "cells": [
  {
   "cell_type": "code",
   "execution_count": 19,
   "id": "946cf2d4",
   "metadata": {},
   "outputs": [
    {
     "name": "stdout",
     "output_type": "stream",
     "text": [
      "enter fisrt number : 67\n",
      "enter second number : 3\n",
      "your sum is = 70\n"
     ]
    }
   ],
   "source": [
    "first = input('enter fisrt number : ')\n",
    "second = input('enter second number : ')\n",
    "sum = int(first) + int(second) #we need to concatinate these number \n",
    "print('your sum is = ' +str(sum) )"
   ]
  },
  {
   "cell_type": "code",
   "execution_count": 22,
   "id": "72093e35",
   "metadata": {},
   "outputs": [
    {
     "name": "stdout",
     "output_type": "stream",
     "text": [
      "RAMASHISH KUMAR\n",
      "ramashish kumar\n"
     ]
    }
   ],
   "source": [
    "name = 'Ramashish kumar'\n",
    "# name.upper()(for upper case) name.lower()(for all are in lowe case)\n",
    "print(name.upper())\n",
    "print(name.lower())"
   ]
  },
  {
   "cell_type": "code",
   "execution_count": 37,
   "id": "34a531de",
   "metadata": {},
   "outputs": [
    {
     "name": "stdout",
     "output_type": "stream",
     "text": [
      "5\n",
      "-1\n",
      "-1\n",
      "5\n",
      "-1\n",
      "Iron man\n",
      "Tony Stark\n",
      "Ramshish Stark\n",
      "Mony Stark\n",
      "False\n",
      "True\n"
     ]
    }
   ],
   "source": [
    "name = 'Tony Stark'\n",
    "\n",
    "print(name.find('S'))#if it find that word(case_sencitive)then it show the index of that paticular word in string otherw show -1\n",
    "print (name.find('K'))# here we search k in uppercase but in our string k is lowercase so it show -1\n",
    "print(name.find('j'))# here j is not in string so it show -1\n",
    "# we can also find sub string\n",
    "print(name.find('Stark'))\n",
    "print(name.find('stark')) # here s in lowercase but in our string s is uppercase so it show -1\n",
    "print(name.replace('Tony Stark' , \"Iron man\"))# for replace our character or string or substring\n",
    "print(name.replace('tony','ramshish'))# t is in uppercase\n",
    "print(name.replace('Tony','Ramshish'))\n",
    "print(name.replace('T','M'))\n",
    "print(\"h\" in name)#if it in our sting then it show true if not then it show false (boolean)\n",
    "print('Stark' in name)\n"
   ]
  },
  {
   "cell_type": "markdown",
   "id": "9a965ad3",
   "metadata": {},
   "source": [
    "Artemetic opration (opratior)"
   ]
  },
  {
   "cell_type": "markdown",
   "id": "575bfaff",
   "metadata": {},
   "source": [
    "# + for add\n",
    "# * for miltiply\n",
    "# / for division \n",
    "# // it only show GIF of that number (decimal ke baad wala nahi show karega)\n",
    "# % modelu, remender opratior\n",
    "# ** power oprator i.e 5 ** 2 (5 to the power 2) = 25"
   ]
  },
  {
   "cell_type": "code",
   "execution_count": 43,
   "id": "cd5bc346",
   "metadata": {},
   "outputs": [
    {
     "name": "stdout",
     "output_type": "stream",
     "text": [
      "7\n",
      "25\n",
      "2\n",
      "2.5\n",
      "1\n"
     ]
    }
   ],
   "source": [
    "print(5+2) # add\n",
    "print(5**2) # power\n",
    "print(5//2)\n",
    "print(5/2)\n",
    "print(5%2)"
   ]
  },
  {
   "cell_type": "code",
   "execution_count": 46,
   "id": "0431ff85",
   "metadata": {},
   "outputs": [
    {
     "name": "stdout",
     "output_type": "stream",
     "text": [
      "1\n"
     ]
    }
   ],
   "source": [
    "# shorcut\n",
    "i = 5\n",
    "i = i + 2 # i += 2\n",
    "i = i - 2 # i -= 2\n",
    "j = i % 2 # i %= 2\n",
    "print(j)"
   ]
  },
  {
   "cell_type": "markdown",
   "id": "c05557fb",
   "metadata": {},
   "source": [
    "type conversion"
   ]
  },
  {
   "cell_type": "code",
   "execution_count": 26,
   "id": "1ae126a0",
   "metadata": {},
   "outputs": [
    {
     "name": "stdout",
     "output_type": "stream",
     "text": [
      "enter your age: 56\n",
      "your new age is : 58\n"
     ]
    }
   ],
   "source": [
    "old_age = int(input('enter your age: '))\n",
    "new_age = old_age + 2\n",
    "print('your new age is : '+str(new_age))"
   ]
  },
  {
   "cell_type": "code",
   "execution_count": 47,
   "id": "6e36a364",
   "metadata": {},
   "outputs": [
    {
     "name": "stdout",
     "output_type": "stream",
     "text": [
      "your number is : 15\n"
     ]
    }
   ],
   "source": [
    "float()\n",
    "str()\n",
    "bool()\n",
    "number = 15 \n",
    "h = str(number)\n",
    "print(\"your number is : \" + h)\n"
   ]
  },
  {
   "cell_type": "code",
   "execution_count": 50,
   "id": "72af71d5",
   "metadata": {},
   "outputs": [
    {
     "name": "stdout",
     "output_type": "stream",
     "text": [
      "True\n",
      "False\n",
      "True\n"
     ]
    }
   ],
   "source": [
    "# and when bot true then true otherwise false \n",
    "# or when any one true it give true \n",
    "# not if true the show false if false the show true \n",
    "print(3>2 or 5<3)\n",
    "print(3>2 and 5<3)\n",
    "print((not 4>6))\n"
   ]
  },
  {
   "cell_type": "code",
   "execution_count": null,
   "id": "e812e86b",
   "metadata": {},
   "outputs": [],
   "source": [
    "# if else \n",
    "age = input('Enter your age : ')\n",
    "if int(age) >= 18:\n",
    "    print('age = '+ str(age) +', you can vote!')\n",
    "elif int(age) < 18 and int(age)>=12:\n",
    "    print('age = '+ age+\", you are teenager\")\n",
    "elif int(age)<12:\n",
    "    print('you are kid')\n",
    "else :\n",
    "    print('thanks')\n",
    "    "
   ]
  }
 ],
 "metadata": {
  "kernelspec": {
   "display_name": "Python 3 (ipykernel)",
   "language": "python",
   "name": "python3"
  },
  "language_info": {
   "codemirror_mode": {
    "name": "ipython",
    "version": 3
   },
   "file_extension": ".py",
   "mimetype": "text/x-python",
   "name": "python",
   "nbconvert_exporter": "python",
   "pygments_lexer": "ipython3",
   "version": "3.11.5"
  }
 },
 "nbformat": 4,
 "nbformat_minor": 5
}
